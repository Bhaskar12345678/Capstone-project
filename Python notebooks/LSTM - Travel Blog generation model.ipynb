{
 "cells": [
  {
   "cell_type": "code",
   "execution_count": 1,
   "metadata": {},
   "outputs": [],
   "source": [
    "from tensorflow.keras.preprocessing.sequence import pad_sequences\n",
    "from tensorflow.keras.layers import Embedding, LSTM, Dense, Dropout, Bidirectional\n",
    "from tensorflow.keras.preprocessing.text import Tokenizer\n",
    "from tensorflow.keras.models import Sequential\n",
    "from tensorflow.keras.optimizers import Adam\n",
    "from tensorflow.keras import regularizers\n",
    "import tensorflow.keras.utils as ku \n",
    "import numpy as np \n"
   ]
  },
  {
   "cell_type": "code",
   "execution_count": 2,
   "metadata": {},
   "outputs": [],
   "source": [
    " data = open('travel_blogs').read()"
   ]
  },
  {
   "cell_type": "code",
   "execution_count": 3,
   "metadata": {},
   "outputs": [],
   "source": [
    "tokenizer = Tokenizer()\n"
   ]
  },
  {
   "cell_type": "code",
   "execution_count": 4,
   "metadata": {},
   "outputs": [
    {
     "name": "stdout",
     "output_type": "stream",
     "text": [
      "We started off asking what started Ale Adventures and what gave them the idea to blog about beer and breweries.Based out of Minnesota, Adam and Katie have taken Ale Adventures to 7 overseas breweries, 7 breweries in North Dakota, 24 breweries in Wisconsin, 7 breweries in Illinois, and 98 breweries in Minnesota. With a scoreboard of that size, we were curious what their take was on different beers throughout the world. Since Adam & Katie are based out of Minnesota, we wanted to know more about the brewery scene there and what some of their favorite places are.We also had some suggestions of places and breweries we have been as well, and shared some of our favorite places. We also wanted to get to know more about the creators and co-writers of Ale Adventures, and how they met, so we asked more about where and how they met and how that led into a mutual appreciation and passion for beer. Since we’re a travel blog, we were interested what got them traveling more out of the country to visit breweries. So we asked if beer was the origin of these trips, or if they simply selected countries and found some breweries when they were there. We were also interested in their perspective of international vs. national beers and if they noticed any major difference between the two. We thought Ale Adventures was a great beer blog and now we can confirm it also has some great creators writers! Definitely make sure to check out Ale Adventures blog or Instagram for great beer content! Welcome back to the Friends That Carry On Podcast! We're a group of friends that like to travel the world together. We want to share our passion for travel through travel tips and tricks we've picked up along away and stories of our adventures! For Episode 14,  Tony Price is our host and tchotchke holder, and he’s joined this week alongside Eric Fargo and Jim Scott. This episode, the 3 Friends will be discussing different things to do in Madrid, breaking down the planning, where to stay, and everything in between. Hold on tight for another great episode! Our tchotchke this episode is this tiled bull, made up of tiles from Madrid, brought by Eric. As a group of friends, we have all been together in Pamplona , flying in and out of Madrid, so after having flown in and out of there, we made it a goal for us to go and spend more time in Madrid. So first, we talked about traveling out there and tips for getting there, as well as the places we stayed and tips for that. We like to share our experiences of traveling and where we stayed, to give some insight on things that worked and didn’t work for us, so we can hopefully help to influence how you might travel or where you might stay. We then led into some of the tours we’ve taken in Madrid, first being a Walking Tour, with Sandman Tours, and the second being a food tour, or the Tapas Tour. We’ve talked about tours in the past, including the Walking Tour in Madrid specifically, but we always recommend tours when visiting a place. If you take a tour of the area the first or second day, it’s a great way to learn the area a little bit and get comfortable with your surroundings.\n"
     ]
    }
   ],
   "source": [
    "\n",
    "data = \"We started off asking what started Ale Adventures and what gave them the idea to blog about beer and breweries.\\\n",
    "Based out of Minnesota, Adam and Katie have taken Ale Adventures to 7 overseas breweries, 7 breweries in North Dakota, 24 breweries in Wisconsin, 7 breweries in Illinois, and 98 breweries in Minnesota. \\\n",
    "With a scoreboard of that size, we were curious what their take was on different beers throughout the world. \\\n",
    "Since Adam & Katie are based out of Minnesota, we wanted to know more about the brewery scene there and what some of their favorite places are.\\\n",
    "We also had some suggestions of places and breweries we have been as well, and shared some of our favorite places. \\\n",
    "We also wanted to get to know more about the creators and co-writers of Ale Adventures, and how they met, so we asked more about where and how they met and how that led into a mutual appreciation and passion for beer. \\\n",
    "Since we’re a travel blog, we were interested what got them traveling more out of the country to visit breweries. \\\n",
    "So we asked if beer was the origin of these trips, or if they simply selected countries and found some breweries when they were there. \\\n",
    "We were also interested in their perspective of international vs. national beers and if they noticed any major difference between the two. We thought Ale Adventures was a great beer blog and now we can confirm it also has some great creators writers! Definitely make sure to check out Ale Adventures blog or Instagram for great beer content! Welcome back to the Friends That Carry On Podcast! We're a group of friends that like to travel the world together. \\\n",
    "We want to share our passion for travel through travel tips and tricks we've picked up along away and stories of our adventures! For Episode 14,  Tony Price is our host and tchotchke holder, and he’s joined this week alongside Eric Fargo and Jim Scott. \\\n",
    "This episode, the 3 Friends will be discussing different things to do in Madrid, breaking down the planning, where to stay, and everything in between. \\\n",
    "Hold on tight for another great episode! Our tchotchke this episode is this tiled bull, made up of tiles from Madrid, brought by Eric. As a group of friends, we have all been together in Pamplona , flying in and out of Madrid, so after having flown in and out of there, we made it a goal for us to go and spend more time in Madrid. \\\n",
    "So first, we talked about traveling out there and tips for getting there, as well as the places we stayed and tips for that. \\\n",
    "We like to share our experiences of traveling and where we stayed, to give some insight on things that worked and didn’t work for us, so we can hopefully help to influence how you might travel or where you might stay. \\\n",
    "We then led into some of the tours we’ve taken in Madrid, first being a Walking Tour, with Sandman Tours, and the second being a food tour, or the Tapas Tour. \\\n",
    "We’ve talked about tours in the past, including the Walking Tour in Madrid specifically, but we always recommend tours when visiting a place. \\\n",
    "If you take a tour of the area the first or second day, it’s a great way to learn the area a little bit and get comfortable with your surroundings.\"\n",
    "\n",
    "\n",
    "print(data)\n"
   ]
  },
  {
   "cell_type": "code",
   "execution_count": 4,
   "metadata": {
    "scrolled": true
   },
   "outputs": [
    {
     "name": "stdout",
     "output_type": "stream",
     "text": [
      "['if you are looking forward to a wide variety of landscapes and multiple choices of anchoring on a sailing holiday, then sail along the beautiful coastline of mallorca. the typical setting amidst the mallorcaâ€™s coastline means admiring the shallow turquoise waters against the theatrical mountains and dive into the sea whenever one wants. you can halt at those secluded beaches dotted with idyllic coves and dunes. you would just want the time to stand still and enjoy the glorious weather, the fantastic sea, and the excellent sailing trip.', 'the spanish islands of mallorca boast of a charming country lifestyle and are a realm of tradition and history. if you are toying with the idea of planning a sailing holiday with your family and friends around mallorca, well, you are in for a perfect holiday trip and memories of a lifetime. choose reputed sites like www.sailingholidays.com for that ideal vacation.', 'mallorca, also known as majorca, is the largest island in the balearic islands and is located in the mediterranean. the balearic islands are part of spain, and palma is the capital of the mallorca island. like the other balearic islands, mallorca is a trendy holiday destination and lures tourists from all across the world, especially europe. mallorca is a paradise for sailing buffs and beach lovers. the climate around majorca is pleasant and boasts of soft temperatures all year round. however, there can be storms during winters, and the best time to enjoy sailing is between april to october, when the weather is the best. with the prevailing winds reaching an average of force it is indeed a perfect island and spot for sailing. enjoy the lovely and famous island with stunning beaches and magical nature. ', 'before you go ahead and book a yacht, it is essential to know the number of people going for the trip, the number of days and if there is a need for a skipper.  you will come across countless charter companies offering all kinds of boats and yachts of all different shapes and sizes. you could look for motor yachts, catamarans, sailing yachts, speedboats, and more. one can go for a sailing or motor yacht experience, and there is a significant difference between the two.', '', 'sailing charter â€“ most people prefer operating a sailboat or a sailing yacht to get that authentic sailing experience. after all, nothing can be more dramatic than gliding through the water and without any sound of engines. sailing yacht charters are cheaper because of the lower fuel costs.', 'motorboat or yachts charter â€“ the motor yachts or boats are the right option for those looking for luxury, comfort, and speed. one can discover as much of mallorcaâ€™s coastline as possible when sailing on those motor yachts. ', 'bareboat charter â€“ bareboat charter is suggested for those with a qualified skipper in their group and who can be in full control of the sailing group. charter companies would demand a certificate that proves their skipper qualification.', 'crewed charter â€“ a crewed charter is perfect for those who want to charter a larger boat, but no one in the group knows how to sail. the local skipper can help plan out a great itinerary and what places to sail to in mallorca.', 'catered charter â€“ a fully catered charter provides complete provisions that you would like and private chefs and caterers to prepare and serve the meals for the full trip.', ' ', 'before you board the yacht or the boat, it is essential to know what all you need to carry and bring with you. depending on the locations you are traveling to, there would be entry and exit plus visa requirements. you must have the correct travel documents such as passport and tickets with you. other mandatory sailing requirements include sailing licenses before arrival. a typical packing list includes soft-sided bags to carry light-weight clothing, swimwear, sandals, hiking boots, hats, and sunglasses. bring travel-sized toiletries and hygiene products, pain relievers, and medication for motion sickness relief. when sailing around mallorca, one can head towards the north coast, the south coast, the east coast, and the west coast. one can plan a sailing itinerary based on popular sailing spots along the coast. you are sure to remain spoilt for choices when it comes to designing an itinerary or a sailing yacht for your sailing trip that could be for a day, a week, or even months.as the north coast boasts of a wide selection of charming bays, it is indeed a popular spot for yachting. as there are an endless number of bays, you are sure to find a quieter area nearby if one bay is too busy for your liking. discover several rocky coves and sandy beaches in the area as you sail along the coast and anchor at some of the most popular spots like cala boquer, coll baix and formentor beach. cala bã³quer is a peaceful spot and is ideal for swimming and snorkeling because of its clear waters. formentor beach is a top-rated beach that is lined with luxury hotels, bars, and restaurants. coll baix is an open cove with rocky cliffs and high headland and is located north-east of alcãºdia.the east coast of mallorca is well famous for its caves and coves and offers plenty to do and see and keep one busy for hours. you will come across some of the most beautiful beaches and bays of mallorca along the east coast and will find boats and yachts of all shapes, type, and sizes moored along the coast. cala santanyi, cabrera national park and colonia de sant jordi are essential points of interest on this itinerary. south coast boasts of many quality bays and several places to drop anchor on a sailing trip. explore those glorious beaches with secluded bays and clear turquoise waters and enjoy fantastic meals at fabulous restaurants and beach clubs that serve paella and seafood. popular spots include names like puerto portals, portals vells, palma de mallorca, illetas, port dâ€™andratx, sant elm and more. as the west coastal side of mallorca is made of a rocky coastline, it is often ignored by the sailing enthusiast. however, the yachting world has a lot to explore along this coast and venture further afield and discover the nooks and crannies of the cliffs. popular spots for anchorage include cala deia and port de soller.']\n"
     ]
    }
   ],
   "source": [
    "# \n",
    "corpus = data.lower().split(\"\\n\")\n",
    "print(corpus)"
   ]
  },
  {
   "cell_type": "code",
   "execution_count": 6,
   "metadata": {},
   "outputs": [
    {
     "name": "stdout",
     "output_type": "stream",
     "text": [
      "Dictionary of words\n",
      "\n",
      "{'and': 1, 'the': 2, 'a': 3, 'of': 4, 'is': 5, 'sailing': 6, 'for': 7, 'to': 8, 'you': 9, 'mallorca': 10, 'are': 11, 'coast': 12, 'with': 13, 'charter': 14, 'can': 15, 'one': 16, 'in': 17, 'as': 18, 'that': 19, 'all': 20, 'yachts': 21, 'or': 22, 'on': 23, 'along': 24, 'those': 25, 'trip': 26, 'it': 27, 'yacht': 28, 'beaches': 29, 'like': 30, 'beach': 31, 'there': 32, 'be': 33, 'â€“': 34, 'popular': 35, 'bays': 36, 'if': 37, 'holiday': 38, 'sail': 39, 'coastline': 40, 'would': 41, 'enjoy': 42, 'islands': 43, 'island': 44, 'when': 45, 'an': 46, 'skipper': 47, 'motor': 48, 'itinerary': 49, 'east': 50, 'spots': 51, 'cala': 52, 'waters': 53, 'at': 54, 'coves': 55, 'your': 56, 'around': 57, 'perfect': 58, 'balearic': 59, 'across': 60, 'boasts': 61, 'spot': 62, 'before': 63, 'essential': 64, 'number': 65, 'will': 66, 'boats': 67, 'more': 68, 'most': 69, 'discover': 70, 'group': 71, 'include': 72, 'north': 73, 'rocky': 74, 'de': 75, 'looking': 76, 'wide': 77, 'choices': 78, 'beautiful': 79, 'typical': 80, 'mallorcaâ€™s': 81, 'turquoise': 82, 'sea': 83, 'secluded': 84, 'want': 85, 'time': 86, 'glorious': 87, 'weather': 88, 'fantastic': 89, 'charming': 90, 'well': 91, 'ideal': 92, 'majorca': 93, 'located': 94, 'palma': 95, 'other': 96, 'world': 97, 'soft': 98, 'however': 99, 'best': 100, 'between': 101, 'indeed': 102, 'famous': 103, 'go': 104, 'know': 105, 'people': 106, 'need': 107, 'come': 108, 'companies': 109, 'shapes': 110, 'sizes': 111, 'could': 112, 'experience': 113, 'because': 114, 'luxury': 115, 'bareboat': 116, 'their': 117, 'who': 118, 'full': 119, 'crewed': 120, 'boat': 121, 'plan': 122, 'what': 123, 'places': 124, 'catered': 125, 'serve': 126, 'meals': 127, 'carry': 128, 'bring': 129, 'requirements': 130, 'travel': 131, 'south': 132, 'west': 133, 'sure': 134, 'yachting': 135, 'find': 136, 'area': 137, 'busy': 138, 'several': 139, 'anchor': 140, 'some': 141, 'coll': 142, 'baix': 143, 'formentor': 144, 'its': 145, 'clear': 146, 'restaurants': 147, 'cliffs': 148, 'sant': 149, 'this': 150, 'explore': 151, 'portals': 152, 'port': 153, 'forward': 154, 'variety': 155, 'landscapes': 156, 'multiple': 157, 'anchoring': 158, 'then': 159, 'setting': 160, 'amidst': 161, 'means': 162, 'admiring': 163, 'shallow': 164, 'against': 165, 'theatrical': 166, 'mountains': 167, 'dive': 168, 'into': 169, 'whenever': 170, 'wants': 171, 'halt': 172, 'dotted': 173, 'idyllic': 174, 'dunes': 175, 'just': 176, 'stand': 177, 'still': 178, 'excellent': 179, 'spanish': 180, 'boast': 181, 'country': 182, 'lifestyle': 183, 'realm': 184, 'tradition': 185, 'history': 186, 'toying': 187, 'idea': 188, 'planning': 189, 'family': 190, 'friends': 191, 'memories': 192, 'lifetime': 193, 'choose': 194, 'reputed': 195, 'sites': 196, 'www': 197, 'sailingholidays': 198, 'com': 199, 'vacation': 200, 'also': 201, 'known': 202, 'largest': 203, 'mediterranean': 204, 'part': 205, 'spain': 206, 'capital': 207, 'trendy': 208, 'destination': 209, 'lures': 210, 'tourists': 211, 'from': 212, 'especially': 213, 'europe': 214, 'paradise': 215, 'buffs': 216, 'lovers': 217, 'climate': 218, 'pleasant': 219, 'temperatures': 220, 'year': 221, 'round': 222, 'storms': 223, 'during': 224, 'winters': 225, 'april': 226, 'october': 227, 'prevailing': 228, 'winds': 229, 'reaching': 230, 'average': 231, 'force': 232, 'lovely': 233, 'stunning': 234, 'magical': 235, 'nature': 236, 'ahead': 237, 'book': 238, 'going': 239, 'days': 240, 'countless': 241, 'offering': 242, 'kinds': 243, 'different': 244, 'look': 245, 'catamarans': 246, 'speedboats': 247, 'significant': 248, 'difference': 249, 'two': 250, 'prefer': 251, 'operating': 252, 'sailboat': 253, 'get': 254, 'authentic': 255, 'after': 256, 'nothing': 257, 'dramatic': 258, 'than': 259, 'gliding': 260, 'through': 261, 'water': 262, 'without': 263, 'any': 264, 'sound': 265, 'engines': 266, 'charters': 267, 'cheaper': 268, 'lower': 269, 'fuel': 270, 'costs': 271, 'motorboat': 272, 'right': 273, 'option': 274, 'comfort': 275, 'speed': 276, 'much': 277, 'possible': 278, 'suggested': 279, 'qualified': 280, 'control': 281, 'demand': 282, 'certificate': 283, 'proves': 284, 'qualification': 285, 'larger': 286, 'but': 287, 'no': 288, 'knows': 289, 'how': 290, 'local': 291, 'help': 292, 'out': 293, 'great': 294, 'fully': 295, 'provides': 296, 'complete': 297, 'provisions': 298, 'private': 299, 'chefs': 300, 'caterers': 301, 'prepare': 302, 'board': 303, 'depending': 304, 'locations': 305, 'traveling': 306, 'entry': 307, 'exit': 308, 'plus': 309, 'visa': 310, 'must': 311, 'have': 312, 'correct': 313, 'documents': 314, 'such': 315, 'passport': 316, 'tickets': 317, 'mandatory': 318, 'licenses': 319, 'arrival': 320, 'packing': 321, 'list': 322, 'includes': 323, 'sided': 324, 'bags': 325, 'light': 326, 'weight': 327, 'clothing': 328, 'swimwear': 329, 'sandals': 330, 'hiking': 331, 'boots': 332, 'hats': 333, 'sunglasses': 334, 'sized': 335, 'toiletries': 336, 'hygiene': 337, 'products': 338, 'pain': 339, 'relievers': 340, 'medication': 341, 'motion': 342, 'sickness': 343, 'relief': 344, 'head': 345, 'towards': 346, 'based': 347, 'remain': 348, 'spoilt': 349, 'comes': 350, 'designing': 351, 'day': 352, 'week': 353, 'even': 354, 'months': 355, 'selection': 356, 'endless': 357, 'quieter': 358, 'nearby': 359, 'bay': 360, 'too': 361, 'liking': 362, 'sandy': 363, 'boquer': 364, 'bã³quer': 365, 'peaceful': 366, 'swimming': 367, 'snorkeling': 368, 'top': 369, 'rated': 370, 'lined': 371, 'hotels': 372, 'bars': 373, 'open': 374, 'cove': 375, 'high': 376, 'headland': 377, 'alcãºdia': 378, 'caves': 379, 'offers': 380, 'plenty': 381, 'do': 382, 'see': 383, 'keep': 384, 'hours': 385, 'type': 386, 'moored': 387, 'santanyi': 388, 'cabrera': 389, 'national': 390, 'park': 391, 'colonia': 392, 'jordi': 393, 'points': 394, 'interest': 395, 'many': 396, 'quality': 397, 'drop': 398, 'fabulous': 399, 'clubs': 400, 'paella': 401, 'seafood': 402, 'names': 403, 'puerto': 404, 'vells': 405, 'illetas': 406, 'dâ€™andratx': 407, 'elm': 408, 'coastal': 409, 'side': 410, 'made': 411, 'often': 412, 'ignored': 413, 'by': 414, 'enthusiast': 415, 'has': 416, 'lot': 417, 'venture': 418, 'further': 419, 'afield': 420, 'nooks': 421, 'crannies': 422, 'anchorage': 423, 'deia': 424, 'soller': 425}\n",
      "{1: 'and', 2: 'the', 3: 'a', 4: 'of', 5: 'is', 6: 'sailing', 7: 'for', 8: 'to', 9: 'you', 10: 'mallorca', 11: 'are', 12: 'coast', 13: 'with', 14: 'charter', 15: 'can', 16: 'one', 17: 'in', 18: 'as', 19: 'that', 20: 'all', 21: 'yachts', 22: 'or', 23: 'on', 24: 'along', 25: 'those', 26: 'trip', 27: 'it', 28: 'yacht', 29: 'beaches', 30: 'like', 31: 'beach', 32: 'there', 33: 'be', 34: 'â€“', 35: 'popular', 36: 'bays', 37: 'if', 38: 'holiday', 39: 'sail', 40: 'coastline', 41: 'would', 42: 'enjoy', 43: 'islands', 44: 'island', 45: 'when', 46: 'an', 47: 'skipper', 48: 'motor', 49: 'itinerary', 50: 'east', 51: 'spots', 52: 'cala', 53: 'waters', 54: 'at', 55: 'coves', 56: 'your', 57: 'around', 58: 'perfect', 59: 'balearic', 60: 'across', 61: 'boasts', 62: 'spot', 63: 'before', 64: 'essential', 65: 'number', 66: 'will', 67: 'boats', 68: 'more', 69: 'most', 70: 'discover', 71: 'group', 72: 'include', 73: 'north', 74: 'rocky', 75: 'de', 76: 'looking', 77: 'wide', 78: 'choices', 79: 'beautiful', 80: 'typical', 81: 'mallorcaâ€™s', 82: 'turquoise', 83: 'sea', 84: 'secluded', 85: 'want', 86: 'time', 87: 'glorious', 88: 'weather', 89: 'fantastic', 90: 'charming', 91: 'well', 92: 'ideal', 93: 'majorca', 94: 'located', 95: 'palma', 96: 'other', 97: 'world', 98: 'soft', 99: 'however', 100: 'best', 101: 'between', 102: 'indeed', 103: 'famous', 104: 'go', 105: 'know', 106: 'people', 107: 'need', 108: 'come', 109: 'companies', 110: 'shapes', 111: 'sizes', 112: 'could', 113: 'experience', 114: 'because', 115: 'luxury', 116: 'bareboat', 117: 'their', 118: 'who', 119: 'full', 120: 'crewed', 121: 'boat', 122: 'plan', 123: 'what', 124: 'places', 125: 'catered', 126: 'serve', 127: 'meals', 128: 'carry', 129: 'bring', 130: 'requirements', 131: 'travel', 132: 'south', 133: 'west', 134: 'sure', 135: 'yachting', 136: 'find', 137: 'area', 138: 'busy', 139: 'several', 140: 'anchor', 141: 'some', 142: 'coll', 143: 'baix', 144: 'formentor', 145: 'its', 146: 'clear', 147: 'restaurants', 148: 'cliffs', 149: 'sant', 150: 'this', 151: 'explore', 152: 'portals', 153: 'port', 154: 'forward', 155: 'variety', 156: 'landscapes', 157: 'multiple', 158: 'anchoring', 159: 'then', 160: 'setting', 161: 'amidst', 162: 'means', 163: 'admiring', 164: 'shallow', 165: 'against', 166: 'theatrical', 167: 'mountains', 168: 'dive', 169: 'into', 170: 'whenever', 171: 'wants', 172: 'halt', 173: 'dotted', 174: 'idyllic', 175: 'dunes', 176: 'just', 177: 'stand', 178: 'still', 179: 'excellent', 180: 'spanish', 181: 'boast', 182: 'country', 183: 'lifestyle', 184: 'realm', 185: 'tradition', 186: 'history', 187: 'toying', 188: 'idea', 189: 'planning', 190: 'family', 191: 'friends', 192: 'memories', 193: 'lifetime', 194: 'choose', 195: 'reputed', 196: 'sites', 197: 'www', 198: 'sailingholidays', 199: 'com', 200: 'vacation', 201: 'also', 202: 'known', 203: 'largest', 204: 'mediterranean', 205: 'part', 206: 'spain', 207: 'capital', 208: 'trendy', 209: 'destination', 210: 'lures', 211: 'tourists', 212: 'from', 213: 'especially', 214: 'europe', 215: 'paradise', 216: 'buffs', 217: 'lovers', 218: 'climate', 219: 'pleasant', 220: 'temperatures', 221: 'year', 222: 'round', 223: 'storms', 224: 'during', 225: 'winters', 226: 'april', 227: 'october', 228: 'prevailing', 229: 'winds', 230: 'reaching', 231: 'average', 232: 'force', 233: 'lovely', 234: 'stunning', 235: 'magical', 236: 'nature', 237: 'ahead', 238: 'book', 239: 'going', 240: 'days', 241: 'countless', 242: 'offering', 243: 'kinds', 244: 'different', 245: 'look', 246: 'catamarans', 247: 'speedboats', 248: 'significant', 249: 'difference', 250: 'two', 251: 'prefer', 252: 'operating', 253: 'sailboat', 254: 'get', 255: 'authentic', 256: 'after', 257: 'nothing', 258: 'dramatic', 259: 'than', 260: 'gliding', 261: 'through', 262: 'water', 263: 'without', 264: 'any', 265: 'sound', 266: 'engines', 267: 'charters', 268: 'cheaper', 269: 'lower', 270: 'fuel', 271: 'costs', 272: 'motorboat', 273: 'right', 274: 'option', 275: 'comfort', 276: 'speed', 277: 'much', 278: 'possible', 279: 'suggested', 280: 'qualified', 281: 'control', 282: 'demand', 283: 'certificate', 284: 'proves', 285: 'qualification', 286: 'larger', 287: 'but', 288: 'no', 289: 'knows', 290: 'how', 291: 'local', 292: 'help', 293: 'out', 294: 'great', 295: 'fully', 296: 'provides', 297: 'complete', 298: 'provisions', 299: 'private', 300: 'chefs', 301: 'caterers', 302: 'prepare', 303: 'board', 304: 'depending', 305: 'locations', 306: 'traveling', 307: 'entry', 308: 'exit', 309: 'plus', 310: 'visa', 311: 'must', 312: 'have', 313: 'correct', 314: 'documents', 315: 'such', 316: 'passport', 317: 'tickets', 318: 'mandatory', 319: 'licenses', 320: 'arrival', 321: 'packing', 322: 'list', 323: 'includes', 324: 'sided', 325: 'bags', 326: 'light', 327: 'weight', 328: 'clothing', 329: 'swimwear', 330: 'sandals', 331: 'hiking', 332: 'boots', 333: 'hats', 334: 'sunglasses', 335: 'sized', 336: 'toiletries', 337: 'hygiene', 338: 'products', 339: 'pain', 340: 'relievers', 341: 'medication', 342: 'motion', 343: 'sickness', 344: 'relief', 345: 'head', 346: 'towards', 347: 'based', 348: 'remain', 349: 'spoilt', 350: 'comes', 351: 'designing', 352: 'day', 353: 'week', 354: 'even', 355: 'months', 356: 'selection', 357: 'endless', 358: 'quieter', 359: 'nearby', 360: 'bay', 361: 'too', 362: 'liking', 363: 'sandy', 364: 'boquer', 365: 'bã³quer', 366: 'peaceful', 367: 'swimming', 368: 'snorkeling', 369: 'top', 370: 'rated', 371: 'lined', 372: 'hotels', 373: 'bars', 374: 'open', 375: 'cove', 376: 'high', 377: 'headland', 378: 'alcãºdia', 379: 'caves', 380: 'offers', 381: 'plenty', 382: 'do', 383: 'see', 384: 'keep', 385: 'hours', 386: 'type', 387: 'moored', 388: 'santanyi', 389: 'cabrera', 390: 'national', 391: 'park', 392: 'colonia', 393: 'jordi', 394: 'points', 395: 'interest', 396: 'many', 397: 'quality', 398: 'drop', 399: 'fabulous', 400: 'clubs', 401: 'paella', 402: 'seafood', 403: 'names', 404: 'puerto', 405: 'vells', 406: 'illetas', 407: 'dâ€™andratx', 408: 'elm', 409: 'coastal', 410: 'side', 411: 'made', 412: 'often', 413: 'ignored', 414: 'by', 415: 'enthusiast', 416: 'has', 417: 'lot', 418: 'venture', 419: 'further', 420: 'afield', 421: 'nooks', 422: 'crannies', 423: 'anchorage', 424: 'deia', 425: 'soller'}\n"
     ]
    }
   ],
   "source": [
    "# \n",
    "tokenizer.fit_on_texts(corpus)\n",
    "\n",
    "word_index = tokenizer.word_index\n",
    "#\n",
    "total_words = len(tokenizer.word_index) + 1\n",
    "\n",
    "print(\"Dictionary of words\\n\")\n",
    "\n",
    "print(tokenizer.word_index)\n",
    "\n",
    "reverse_word_index = dict([(value, key) for (key, value) in word_index.items()])\n",
    "\n",
    "print(reverse_word_index)\n",
    "\n",
    "def decode_index(text):\n",
    "    return ' '.join([reverse_word_index.get(i, '?') for i in text])\n",
    "\n"
   ]
  },
  {
   "cell_type": "code",
   "execution_count": 7,
   "metadata": {},
   "outputs": [
    {
     "name": "stdout",
     "output_type": "stream",
     "text": [
      "[37, 9]\n",
      "[37, 9, 11]\n",
      "if you\n",
      "if you are\n",
      "if you are looking\n"
     ]
    }
   ],
   "source": [
    "# create input sequences using list of tokens\n",
    "input_sequences = []\n",
    "\n",
    "# For each sentence in corpus\n",
    "for line in corpus:\n",
    "  token_list = tokenizer.texts_to_sequences([line])[0]\n",
    "  for i in range(1, len(token_list)):\n",
    "        n_gram_sequence = token_list[:i+1]\n",
    "        input_sequences.append(n_gram_sequence)\n",
    "        # print array after converting them to sentences\n",
    "\n",
    "print(input_sequences[0])\n",
    "print(input_sequences[1])\n",
    "\n",
    "\n",
    "\n",
    "print(decode_index(input_sequences[0]))\n",
    "print(decode_index(input_sequences[1]))\n",
    "print(decode_index(input_sequences[2]))\n",
    "\n",
    "\n"
   ]
  },
  {
   "cell_type": "code",
   "execution_count": 8,
   "metadata": {},
   "outputs": [
    {
     "name": "stdout",
     "output_type": "stream",
     "text": [
      "Max seq lenth:  496\n",
      "1056\n",
      "? ? ? ? ? ? ? ? ? ? ? ? ? ? ? ? ? ? ? ? ? ? ? ? ? ? ? ? ? ? ? ? ? ? ? ? ? ? ? ? ? ? ? ? ? ? ? ? ? ? ? ? ? ? ? ? ? ? ? ? ? ? ? ? ? ? ? ? ? ? ? ? ? ? ? ? ? ? ? ? ? ? ? ? ? ? ? ? ? ? ? ? ? ? ? ? ? ? ? ? ? ? ? ? ? ? ? ? ? ? ? ? ? ? ? ? ? ? ? ? ? ? ? ? ? ? ? ? ? ? ? ? ? ? ? ? ? ? ? ? ? ? ? ? ? ? ? ? ? ? ? ? ? ? ? ? ? ? ? ? ? ? ? ? ? ? ? ? ? ? ? ? ? ? ? ? ? ? ? ? ? ? ? ? ? ? ? ? ? ? ? ? ? ? ? ? ? ? ? ? ? ? ? ? ? ? ? ? ? ? ? ? ? ? ? ? ? ? ? ? ? ? ? ? ? ? ? ? ? ? ? ? ? ? ? ? ? ? ? ? ? ? ? ? ? ? ? ? ? ? ? ? ? ? ? ? ? ? ? ? ? ? ? ? ? ? ? ? ? ? ? ? ? ? ? ? ? ? ? ? ? ? ? ? ? ? ? ? ? ? ? ? ? ? ? ? ? ? ? ? ? ? ? ? ? ? ? ? ? ? ? ? ? ? ? ? ? ? ? ? ? ? ? ? ? ? ? ? ? ? ? ? ? ? ? ? ? ? ? ? ? ? ? ? ? ? ? ? ? ? ? ? ? ? ? ? ? ? ? ? ? ? ? ? ? ? ? ? ? ? ? ? ? ? ? ? ? ? ? ? ? ? ? ? ? ? ? ? ? ? ? ? ? ? ? ? ? ? ? ? ? ? ? ? ? ? ? ? ? ? ? ? ? ? ? ? ? ? ? ? ? ? ? ? ? ? ? ? ? ? ? ? ? ? ? ? ? ? ? ? ? ? ? ? ? ? ? ? ? ? ? ? ? ? ? ? ? ? ? ? ? ? ? ? ? ? ? ? ? ? ? ? ? ? ? ? ? ? ? ? ? ? ? ? ? ? ? ? ? ? ? ? ? ? if you\n",
      "[[0. 0. 0. ... 0. 0. 0.]\n",
      " [0. 0. 0. ... 0. 0. 0.]\n",
      " [0. 0. 0. ... 0. 0. 0.]\n",
      " ...\n",
      " [0. 0. 0. ... 0. 0. 0.]\n",
      " [0. 0. 0. ... 0. 0. 0.]\n",
      " [0. 0. 0. ... 0. 0. 1.]]\n"
     ]
    }
   ],
   "source": [
    "# pad sequences \n",
    "max_sequence_len = max([len(x) for x in input_sequences])\n",
    "\n",
    "print(\"Max seq lenth: \",  max_sequence_len)\n",
    "\n",
    "# experiment with \"post instead of pre\"\n",
    "input_sequences = np.array(pad_sequences(input_sequences, maxlen=max_sequence_len, padding='pre'))\n",
    "\n",
    "print(len(input_sequences))\n",
    "print(decode_index(input_sequences[0]))\n",
    "\n",
    "\n",
    "# create predictors and label\n",
    "predictors, label = input_sequences[:,:-1],input_sequences[:,-1]\n",
    "\n",
    "# Get this printed out to express lables with each sequences\n",
    "label = ku.to_categorical(label, num_classes=total_words)\n",
    "print(label)\n"
   ]
  },
  {
   "cell_type": "code",
   "execution_count": 9,
   "metadata": {},
   "outputs": [
    {
     "name": "stdout",
     "output_type": "stream",
     "text": [
      "WARNING:tensorflow:From C:\\Users\\bhask\\Anaconda3\\lib\\site-packages\\tensorflow\\python\\ops\\resource_variable_ops.py:435: colocate_with (from tensorflow.python.framework.ops) is deprecated and will be removed in a future version.\n",
      "Instructions for updating:\n",
      "Colocations handled automatically by placer.\n",
      "WARNING:tensorflow:From C:\\Users\\bhask\\Anaconda3\\lib\\site-packages\\tensorflow\\python\\keras\\layers\\core.py:143: calling dropout (from tensorflow.python.ops.nn_ops) with keep_prob is deprecated and will be removed in a future version.\n",
      "Instructions for updating:\n",
      "Please use `rate` instead of `keep_prob`. Rate should be set to `rate = 1 - keep_prob`.\n",
      "_________________________________________________________________\n",
      "Layer (type)                 Output Shape              Param #   \n",
      "=================================================================\n",
      "embedding (Embedding)        (None, 495, 20)           8520      \n",
      "_________________________________________________________________\n",
      "bidirectional (Bidirectional (None, 495, 20)           2480      \n",
      "_________________________________________________________________\n",
      "bidirectional_1 (Bidirection (None, 495, 20)           2480      \n",
      "_________________________________________________________________\n",
      "dropout (Dropout)            (None, 495, 20)           0         \n",
      "_________________________________________________________________\n",
      "lstm_2 (LSTM)                (None, 10)                1240      \n",
      "_________________________________________________________________\n",
      "dense (Dense)                (None, 213)               2343      \n",
      "_________________________________________________________________\n",
      "dense_1 (Dense)              (None, 426)               91164     \n",
      "=================================================================\n",
      "Total params: 108,227\n",
      "Trainable params: 108,227\n",
      "Non-trainable params: 0\n",
      "_________________________________________________________________\n",
      "None\n"
     ]
    }
   ],
   "source": [
    "# define all hyperparameters constants\n",
    "\n",
    "\n",
    "model = Sequential()\n",
    "# explain meaning of reach parameter and hyper parameters.\n",
    "# create constants for hyperparameters instead of hard coding them\n",
    "model.add(Embedding(total_words, 20, input_length=max_sequence_len-1))\n",
    "model.add(Bidirectional(LSTM(10, return_sequences = True)))\n",
    "model.add(Bidirectional(LSTM(10, return_sequences = True)))\n",
    "model.add(Dropout(0.2))\n",
    "model.add(LSTM(10))\n",
    "model.add(Dense(total_words/2, activation='relu', kernel_regularizer=regularizers.l2(0.01)))\n",
    "model.add(Dense(total_words, activation='softmax'))\n",
    "model.compile(loss='categorical_crossentropy', optimizer='adam', metrics=['accuracy'])\n",
    "print(model.summary())\n",
    "\n",
    "\n",
    "# save the model along with traning data in seperate files...\n",
    "# When saving a model's weights, tf.keras defaults to the checkpoint format. Pass save_format='h5' to use HDF5.\n"
   ]
  },
  {
   "cell_type": "code",
   "execution_count": null,
   "metadata": {},
   "outputs": [
    {
     "name": "stdout",
     "output_type": "stream",
     "text": [
      "WARNING:tensorflow:From C:\\Users\\bhask\\Anaconda3\\lib\\site-packages\\tensorflow\\python\\ops\\math_ops.py:3066: to_int32 (from tensorflow.python.ops.math_ops) is deprecated and will be removed in a future version.\n",
      "Instructions for updating:\n",
      "Use tf.cast instead.\n",
      "Epoch 1/50\n",
      "1056/1056 [==============================] - 56s 53ms/sample - loss: 6.1691 - acc: 0.0559\n",
      "Epoch 2/50\n",
      "1056/1056 [==============================] - 50s 47ms/sample - loss: 5.7386 - acc: 0.0616\n",
      "Epoch 3/50\n",
      "1056/1056 [==============================] - 47s 44ms/sample - loss: 5.4301 - acc: 0.0521\n",
      "Epoch 4/50\n",
      "1056/1056 [==============================] - 50s 47ms/sample - loss: 5.3859 - acc: 0.0616\n",
      "Epoch 5/50\n",
      "1056/1056 [==============================] - 48s 45ms/sample - loss: 5.3659 - acc: 0.0559\n",
      "Epoch 6/50\n",
      "1056/1056 [==============================] - 52s 49ms/sample - loss: 5.3518 - acc: 0.0616\n",
      "Epoch 7/50\n",
      "1056/1056 [==============================] - 50s 47ms/sample - loss: 5.3330 - acc: 0.0549\n",
      "Epoch 8/50\n",
      "1056/1056 [==============================] - 51s 49ms/sample - loss: 5.3096 - acc: 0.0606\n",
      "Epoch 9/50\n",
      "1056/1056 [==============================] - 52s 49ms/sample - loss: 5.2692 - acc: 0.0616\n",
      "Epoch 10/50\n",
      "1056/1056 [==============================] - 50s 47ms/sample - loss: 5.2123 - acc: 0.0606\n",
      "Epoch 11/50\n",
      "1056/1056 [==============================] - 51s 48ms/sample - loss: 5.1181 - acc: 0.0521\n",
      "Epoch 12/50\n",
      "1056/1056 [==============================] - 78s 74ms/sample - loss: 5.0303 - acc: 0.0521\n",
      "Epoch 13/50\n",
      "1056/1056 [==============================] - 59s 56ms/sample - loss: 4.9607 - acc: 0.0625\n",
      "Epoch 14/50\n",
      "1056/1056 [==============================] - 62s 59ms/sample - loss: 4.9130 - acc: 0.0559\n",
      "Epoch 15/50\n",
      "1056/1056 [==============================] - 50s 48ms/sample - loss: 4.8791 - acc: 0.0616\n",
      "Epoch 16/50\n",
      "1056/1056 [==============================] - 50s 48ms/sample - loss: 4.8408 - acc: 0.0578\n",
      "Epoch 17/50\n",
      "1056/1056 [==============================] - 49s 47ms/sample - loss: 4.8151 - acc: 0.0634\n",
      "Epoch 18/50\n",
      "1056/1056 [==============================] - 49s 47ms/sample - loss: 4.7981 - acc: 0.0530\n",
      "Epoch 19/50\n",
      "1056/1056 [==============================] - 82s 77ms/sample - loss: 4.8019 - acc: 0.0521\n",
      "Epoch 20/50\n",
      "1056/1056 [==============================] - 78s 74ms/sample - loss: 4.7629 - acc: 0.0587\n",
      "Epoch 21/50\n",
      "1056/1056 [==============================] - 66s 62ms/sample - loss: 4.7489 - acc: 0.0597\n",
      "Epoch 22/50\n",
      "1056/1056 [==============================] - 71s 67ms/sample - loss: 4.7313 - acc: 0.0502\n",
      "Epoch 23/50\n",
      "1056/1056 [==============================] - 69s 65ms/sample - loss: 4.7288 - acc: 0.0672\n",
      "Epoch 24/50\n",
      "1056/1056 [==============================] - 70s 67ms/sample - loss: 4.7052 - acc: 0.0549\n",
      "Epoch 25/50\n",
      "1056/1056 [==============================] - 72s 68ms/sample - loss: 4.6805 - acc: 0.0483\n",
      "Epoch 26/50\n",
      "1056/1056 [==============================] - 65s 62ms/sample - loss: 4.6760 - acc: 0.0587\n",
      "Epoch 27/50\n",
      "1056/1056 [==============================] - 66s 62ms/sample - loss: 4.6954 - acc: 0.0625\n",
      "Epoch 28/50\n",
      " 160/1056 [===>..........................] - ETA: 57s - loss: 4.5922 - acc: 0.0625"
     ]
    }
   ],
   "source": [
    "# use callback functions to check the accuracy and save the model after attaining requisite accuracy and loss\n",
    "history = model.fit(predictors, label, epochs=50, verbose=1)\n"
   ]
  },
  {
   "cell_type": "code",
   "execution_count": null,
   "metadata": {},
   "outputs": [],
   "source": []
  },
  {
   "cell_type": "code",
   "execution_count": 47,
   "metadata": {},
   "outputs": [
    {
     "data": {
      "image/png": "[encoded data removed]",
      "text/plain": [
       "<Figure size 432x288 with 1 Axes>"
      ]
     },
     "metadata": {
      "needs_background": "light"
     },
     "output_type": "display_data"
    },
    {
     "data": {
      "image/png": "[encoded data removed]",
      "text/plain": [
       "<Figure size 432x288 with 1 Axes>"
      ]
     },
     "metadata": {
      "needs_background": "light"
     },
     "output_type": "display_data"
    }
   ],
   "source": [
    "import matplotlib.pyplot as plt\n",
    "acc = history.history['acc']\n",
    "loss = history.history['loss']\n",
    "\n",
    "epochs = range(len(acc))\n",
    "\n",
    "plt.plot(epochs, acc, 'b', label='Training accuracy')\n",
    "plt.title('Training accuracy')\n",
    "\n",
    "plt.figure()\n",
    "\n",
    "plt.plot(epochs, loss, 'b', label='Training Loss')\n",
    "plt.title('Training loss')\n",
    "plt.legend()\n",
    "\n",
    "plt.show()"
   ]
  },
  {
   "cell_type": "code",
   "execution_count": 48,
   "metadata": {},
   "outputs": [
    {
     "name": "stdout",
     "output_type": "stream",
     "text": [
      "Ale Adventures to 7 overseas breweries we idea to blog about beer and breweries based out of minnesota adam and katie have taken ale adventures\n"
     ]
    }
   ],
   "source": [
    "# generate random seed, so as to get new insights from the corpus with new stories....\n",
    "seed_text = \"Since Adam & Katie are\"\n",
    "\n",
    "# create random next_words to create new blogs\n",
    "next_words = 100\n",
    "\n",
    "# define function for following code and make it call for random seed sentences new stories\n",
    "for _ in range(next_words):\n",
    "    token_list = tokenizer.texts_to_sequences([seed_text])[0]\n",
    "    token_list = pad_sequences([token_list], maxlen=max_sequence_len-1, padding='pre')\n",
    "    predicted = model.predict_classes(token_list, verbose=0)\n",
    "    output_word = \"\"\n",
    "    for word, index in tokenizer.word_index.items():\n",
    "        if index == predicted:\n",
    "            output_word = word\n",
    "            break\n",
    "    seed_text += \" \" + output_word\n",
    "\n",
    "print(seed_text)\n"
   ]
  },
  {
   "cell_type": "code",
   "execution_count": null,
   "metadata": {},
   "outputs": [],
   "source": []
  }
 ],
 "metadata": {
  "kernelspec": {
   "display_name": "Python 3",
   "language": "python",
   "name": "python3"
  },
  "language_info": {
   "codemirror_mode": {
    "name": "ipython",
    "version": 3
   },
   "file_extension": ".py",
   "mimetype": "text/x-python",
   "name": "python",
   "nbconvert_exporter": "python",
   "pygments_lexer": "ipython3",
   "version": "3.7.3"
  }
 },
 "nbformat": 4,
 "nbformat_minor": 2
}
